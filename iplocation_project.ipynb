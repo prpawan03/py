{
  "nbformat": 4,
  "nbformat_minor": 0,
  "metadata": {
    "colab": {
      "provenance": [],
      "mount_file_id": "1AHalAheKyHjrfzOjwJW2g6ybjLsl1tEl",
      "authorship_tag": "ABX9TyOXfmISaevZ4SjWnQOE8TRC",
      "include_colab_link": true
    },
    "kernelspec": {
      "name": "python3",
      "display_name": "Python 3"
    },
    "language_info": {
      "name": "python"
    }
  },
  "cells": [
    {
      "cell_type": "markdown",
      "metadata": {
        "id": "view-in-github",
        "colab_type": "text"
      },
      "source": [
        "<a href=\"https://colab.research.google.com/github/prpawan03/py/blob/master/iplocation_project.ipynb\" target=\"_parent\"><img src=\"https://colab.research.google.com/assets/colab-badge.svg\" alt=\"Open In Colab\"/></a>"
      ]
    },
    {
      "cell_type": "code",
      "source": [
        "pip install pygeoip"
      ],
      "metadata": {
        "colab": {
          "base_uri": "https://localhost:8080/"
        },
        "id": "kGkwH2GK5itZ",
        "outputId": "c08d24a4-4360-4121-c73b-e43e58997a73"
      },
      "execution_count": 8,
      "outputs": [
        {
          "output_type": "stream",
          "name": "stdout",
          "text": [
            "Collecting pygeoip\n",
            "  Downloading pygeoip-0.3.2-py2.py3-none-any.whl (20 kB)\n",
            "Installing collected packages: pygeoip\n",
            "Successfully installed pygeoip-0.3.2\n"
          ]
        }
      ]
    },
    {
      "cell_type": "code",
      "execution_count": 9,
      "metadata": {
        "id": "17oNW4mA2Px2"
      },
      "outputs": [],
      "source": [
        "import dpkt\n",
        "import socket\n",
        "import pygeoip\n",
        "\n",
        "gi = pygeoip.GeoIP('/content/drive/MyDrive/Colab Notebooks/GeoLiteCity.dat')"
      ]
    },
    {
      "cell_type": "code",
      "source": [
        "def retKML(dstip, srcip):\n",
        "    dst = gi.record_by_name(dstip)\n",
        "    src = gi.record_by_name('49.205.151.200')\n",
        "    try:\n",
        "        dstlongitude = dst['longitude']\n",
        "        dstlatitude = dst['latitude']\n",
        "        srclongitude = src['longitude']\n",
        "        srclatitude = src['latitude']\n",
        "        kml = (\n",
        "            '<Placemark>\\n'\n",
        "            '<name>%s</name>\\n'\n",
        "            '<extrude>1</extrude>\\n'\n",
        "            '<tessellate>1</tessellate>\\n'\n",
        "            '<styleUrl>#transBluePoly</styleUrl>\\n'\n",
        "            '<LineString>\\n'\n",
        "            '<coordinates>%6f,%6f\\n%6f,%6f</coordinates>\\n'\n",
        "            '</LineString>\\n'\n",
        "            '</Placemark>\\n'\n",
        "        )%(dstip, dstlongitude, dstlatitude, srclongitude, srclatitude)\n",
        "        return kml\n",
        "    except:\n",
        "        return ''"
      ],
      "metadata": {
        "id": "bEkG2tZc6NOI"
      },
      "execution_count": 11,
      "outputs": []
    },
    {
      "cell_type": "code",
      "source": [
        "def plotIPs(pcap):\n",
        "    kmlPts = ''\n",
        "    for (ts, buf) in pcap:\n",
        "        try:\n",
        "            eth = dpkt.ethernet.Ethernet(buf)\n",
        "            ip = eth.data\n",
        "            src = socket.inet_ntoa(ip.src)\n",
        "            dst = socket.inet_ntoa(ip.dst)\n",
        "            KML = retKML(dst, src)\n",
        "            kmlPts = kmlPts + KML\n",
        "        except:\n",
        "            pass\n",
        "    return kmlPts"
      ],
      "metadata": {
        "id": "LQTKJfjO6JyO"
      },
      "execution_count": 12,
      "outputs": []
    },
    {
      "cell_type": "code",
      "source": [
        "def main():\n",
        "    f = open('/content/drive/MyDrive/Colab Notebooks/locdump.pcap', 'rb')\n",
        "    pcap = dpkt.pcap.Reader(f)\n",
        "    kmlheader = '<?xml version=\"1.0\" encoding=\"UTF-8\"?> \\n<kml xmlns=\"http://www.opengis.net/kml/2.2\">\\n<Document>\\n'\\\n",
        "    '<Style id=\"transBluePoly\">' \\\n",
        "                '<LineStyle>' \\\n",
        "                '<width>1.5</width>' \\\n",
        "                '<color>501400E6</color>' \\\n",
        "                '</LineStyle>' \\\n",
        "                '</Style>'\n",
        "    kmlfooter = '</Document>\\n</kml>\\n'\n",
        "    kmldoc=kmlheader+plotIPs(pcap)+kmlfooter\n",
        "    print(kmldoc)"
      ],
      "metadata": {
        "id": "tOLSURhb5Vpq"
      },
      "execution_count": 13,
      "outputs": []
    }
  ]
}